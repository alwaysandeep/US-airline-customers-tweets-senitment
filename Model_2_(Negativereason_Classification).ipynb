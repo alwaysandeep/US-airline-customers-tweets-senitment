{
 "cells": [
  {
   "cell_type": "code",
   "execution_count": 1,
   "metadata": {
    "collapsed": false
   },
   "outputs": [
    {
     "name": "stdout",
     "output_type": "stream",
     "text": [
      "Populating the interactive namespace from numpy and matplotlib\n"
     ]
    },
    {
     "name": "stderr",
     "output_type": "stream",
     "text": [
      "C:\\Users\\Arpit Sidana\\Anaconda2\\lib\\site-packages\\sklearn\\cross_validation.py:44: DeprecationWarning: This module was deprecated in version 0.18 in favor of the model_selection module into which all the refactored classes and functions are moved. Also note that the interface of the new CV iterators are different from that of this module. This module will be removed in 0.20.\n",
      "  \"This module will be removed in 0.20.\", DeprecationWarning)\n",
      "C:\\Users\\Arpit Sidana\\Anaconda2\\lib\\site-packages\\sklearn\\grid_search.py:43: DeprecationWarning: This module was deprecated in version 0.18 in favor of the model_selection module into which all the refactored classes and functions are moved. This module will be removed in 0.20.\n",
      "  DeprecationWarning)\n",
      "C:\\Users\\Arpit Sidana\\Anaconda2\\lib\\site-packages\\sklearn\\learning_curve.py:23: DeprecationWarning: This module was deprecated in version 0.18 in favor of the model_selection module into which all the functions are moved. This module will be removed in 0.20\n",
      "  DeprecationWarning)\n"
     ]
    }
   ],
   "source": [
    "%matplotlib inline\n",
    "%pylab inline\n",
    "pylab.rcParams['figure.figsize'] = (14,6)\n",
    "from matplotlib.colors import ListedColormap\n",
    "from sklearn import neighbors\n",
    "import pandas as pd\n",
    "from sklearn.ensemble import ExtraTreesClassifier\n",
    "from sklearn.linear_model import SGDClassifier \n",
    "from sklearn.ensemble import BaggingClassifier\n",
    "from sklearn.ensemble import GradientBoostingClassifier\n",
    "from sklearn.ensemble import AdaBoostClassifier\n",
    "import numpy as np\n",
    "import matplotlib.pyplot as plt\n",
    "import seaborn as sns\n",
    "from sklearn import linear_model\n",
    "from sklearn.metrics import confusion_matrix\n",
    "import sklearn.metrics as  metrics\n",
    "from IPython.display import display\n",
    "from sklearn.grid_search import GridSearchCV\n",
    "from sklearn import tree\n",
    "from sklearn import naive_bayes\n",
    "from sklearn.learning_curve import learning_curve\n",
    "from sklearn.metrics import  make_scorer\n",
    "from sklearn.svm import SVC\n",
    "from mlxtend.feature_selection import plot_sequential_feature_selection as plot_sfs\n",
    "from sklearn.neural_network import MLPClassifier\n",
    "sns.set(style=\"darkgrid\")\n",
    "\n",
    "import os\n",
    "os.getcwd()\n",
    "\n",
    "from sklearn.cross_validation import cross_val_score\n",
    "from sklearn.cross_validation import train_test_split\n",
    "from sklearn.cross_validation import  cross_val_score\n",
    "from sklearn.model_selection import  cross_val_score\n",
    "from sklearn import cross_validation\n",
    "\n",
    "from nltk.stem import WordNetLemmatizer\n",
    "wordnet_lemmatizer = WordNetLemmatizer()\n",
    "import re\n",
    "from sklearn.feature_extraction.text import CountVectorizer\n",
    "from nltk.tokenize import TreebankWordTokenizer\n",
    "from nltk.stem.snowball import EnglishStemmer\n",
    "\n",
    "from sklearn import metrics\n",
    "from sklearn.metrics import precision_recall_fscore_support\n",
    "\n",
    "def my_scorer_function(y_test, y_predicted):\n",
    "    return precision_recall_fscore_support(y_test, y_predicted,pos_label=2)[2][2]\n",
    "def two_scorer():\n",
    "    return make_scorer(my_scorer_function, greater_is_better=True)\n",
    "#import emoji\n",
    "import unicodedata as uni\n",
    "\n",
    "from sklearn.tree import DecisionTreeClassifier\n",
    "from sklearn.naive_bayes import GaussianNB\n",
    "from sklearn.linear_model import LogisticRegression\n",
    "from sklearn.linear_model import SGDClassifier\n",
    "from sklearn.naive_bayes import MultinomialNB\n",
    "\n",
    "import sys\n",
    "nb_stdout = sys.stdout\n",
    "from vaderSentiment.vaderSentiment import sentiment as vaderSentiment\n",
    "sys.stdout = nb_stdout"
   ]
  },
  {
   "cell_type": "markdown",
   "metadata": {},
   "source": [
    "Insert working directory below"
   ]
  },
  {
   "cell_type": "code",
   "execution_count": null,
   "metadata": {
    "collapsed": true
   },
   "outputs": [],
   "source": [
    "#os.chdir(\"<insert working directory path here>\")"
   ]
  },
  {
   "cell_type": "markdown",
   "metadata": {},
   "source": [
    "Import dataset"
   ]
  },
  {
   "cell_type": "code",
   "execution_count": 12,
   "metadata": {
    "collapsed": false
   },
   "outputs": [
    {
     "data": {
      "text/plain": [
       "4.0     2910\n",
       "3.0     1665\n",
       "2.0     1190\n",
       "8.0      847\n",
       "6.0      724\n",
       "1.0      580\n",
       "5.0      529\n",
       "7.0      481\n",
       "10.0     178\n",
       "9.0       74\n",
       "Name: negativereason, dtype: int64"
      ]
     },
     "execution_count": 12,
     "metadata": {},
     "output_type": "execute_result"
    }
   ],
   "source": [
    "df=pd.read_csv(\"Tweets.csv\")\n",
    "\n",
    "# Discretize target class\n",
    "class_dict={\"Bad Flight\":1,\"Can't Tell\":2,\"Late Flight\":3,\"Customer Service Issue\":4,\"Flight Booking Problems\":5,\n",
    "            \"Lost Luggage\":6,\"Flight Attendant Complaints\":7,\"Cancelled Flight\":8,\"Damaged Luggage\":9,\"longlines\":10}\n",
    "df.negativereason=df.negativereason.map(class_dict)\n",
    "\n",
    "# Observe class balance in given dataset\n",
    "df.negativereason.value_counts()"
   ]
  },
  {
   "cell_type": "markdown",
   "metadata": {},
   "source": [
    "Keep only tweets which have a negative reason"
   ]
  },
  {
   "cell_type": "code",
   "execution_count": 13,
   "metadata": {
    "collapsed": false
   },
   "outputs": [],
   "source": [
    "df = df.dropna(subset=[\"negativereason\"])"
   ]
  },
  {
   "cell_type": "markdown",
   "metadata": {},
   "source": [
    "Missing values (as % of total dataset)"
   ]
  },
  {
   "cell_type": "code",
   "execution_count": 14,
   "metadata": {
    "collapsed": false
   },
   "outputs": [
    {
     "data": {
      "text/plain": [
       "tweet_id                         0.000000\n",
       "airline_sentiment                0.000000\n",
       "airline_sentiment_confidence     0.000000\n",
       "negativereason                   0.000000\n",
       "negativereason_confidence        0.000000\n",
       "airline                          0.000000\n",
       "airline_sentiment_gold          99.651340\n",
       "name                             0.000000\n",
       "negativereason_gold             99.651340\n",
       "retweet_count                    0.000000\n",
       "text                             0.000000\n",
       "tweet_coord                     92.776204\n",
       "tweet_created                    0.000000\n",
       "tweet_location                  34.234038\n",
       "user_timezone                   34.539115\n",
       "dtype: float64"
      ]
     },
     "execution_count": 14,
     "metadata": {},
     "output_type": "execute_result"
    }
   ],
   "source": [
    "df.isnull().sum(axis=0)/len(df)*100"
   ]
  },
  {
   "cell_type": "code",
   "execution_count": 15,
   "metadata": {
    "collapsed": false
   },
   "outputs": [],
   "source": [
    "# Transpose class types and map to airlines\n",
    "pd.crosstab(df.airline,df.negativereason)\n",
    "\n",
    "# Append trasposition to dataframe\n",
    "df1=pd.concat([df, pd.get_dummies(df.airline, prefix=None, prefix_sep='_')], axis=1, join='inner')"
   ]
  },
  {
   "cell_type": "code",
   "execution_count": 16,
   "metadata": {
    "collapsed": false
   },
   "outputs": [],
   "source": [
    "# Select relevant columns for analysis\n",
    "df=df1.ix[:,[\"negativereason\",\"negativereason_confidence\",\"American\",\"Delta\",\"Southwest\",\"US Airways\",\"United\",\"Virgin America\",\"retweet_count\",\"text\"]]"
   ]
  },
  {
   "cell_type": "code",
   "execution_count": 17,
   "metadata": {
    "collapsed": false
   },
   "outputs": [
    {
     "data": {
      "text/html": [
       "<div>\n",
       "<table border=\"1\" class=\"dataframe\">\n",
       "  <thead>\n",
       "    <tr style=\"text-align: right;\">\n",
       "      <th></th>\n",
       "      <th>negativereason</th>\n",
       "      <th>negativereason_confidence</th>\n",
       "      <th>American</th>\n",
       "      <th>Delta</th>\n",
       "      <th>Southwest</th>\n",
       "      <th>US Airways</th>\n",
       "      <th>United</th>\n",
       "      <th>Virgin America</th>\n",
       "      <th>retweet_count</th>\n",
       "      <th>text</th>\n",
       "    </tr>\n",
       "  </thead>\n",
       "  <tbody>\n",
       "    <tr>\n",
       "      <th>3</th>\n",
       "      <td>1.0</td>\n",
       "      <td>0.7033</td>\n",
       "      <td>0.0</td>\n",
       "      <td>0.0</td>\n",
       "      <td>0.0</td>\n",
       "      <td>0.0</td>\n",
       "      <td>0.0</td>\n",
       "      <td>1.0</td>\n",
       "      <td>0</td>\n",
       "      <td>@VirginAmerica it's really aggressive to blast...</td>\n",
       "    </tr>\n",
       "    <tr>\n",
       "      <th>4</th>\n",
       "      <td>2.0</td>\n",
       "      <td>1.0000</td>\n",
       "      <td>0.0</td>\n",
       "      <td>0.0</td>\n",
       "      <td>0.0</td>\n",
       "      <td>0.0</td>\n",
       "      <td>0.0</td>\n",
       "      <td>1.0</td>\n",
       "      <td>0</td>\n",
       "      <td>@VirginAmerica and it's a really big bad thing...</td>\n",
       "    </tr>\n",
       "    <tr>\n",
       "      <th>5</th>\n",
       "      <td>2.0</td>\n",
       "      <td>0.6842</td>\n",
       "      <td>0.0</td>\n",
       "      <td>0.0</td>\n",
       "      <td>0.0</td>\n",
       "      <td>0.0</td>\n",
       "      <td>0.0</td>\n",
       "      <td>1.0</td>\n",
       "      <td>0</td>\n",
       "      <td>@VirginAmerica seriously would pay $30 a fligh...</td>\n",
       "    </tr>\n",
       "    <tr>\n",
       "      <th>15</th>\n",
       "      <td>3.0</td>\n",
       "      <td>0.3684</td>\n",
       "      <td>0.0</td>\n",
       "      <td>0.0</td>\n",
       "      <td>0.0</td>\n",
       "      <td>0.0</td>\n",
       "      <td>0.0</td>\n",
       "      <td>1.0</td>\n",
       "      <td>0</td>\n",
       "      <td>@VirginAmerica SFO-PDX schedule is still MIA.</td>\n",
       "    </tr>\n",
       "    <tr>\n",
       "      <th>17</th>\n",
       "      <td>1.0</td>\n",
       "      <td>1.0000</td>\n",
       "      <td>0.0</td>\n",
       "      <td>0.0</td>\n",
       "      <td>0.0</td>\n",
       "      <td>0.0</td>\n",
       "      <td>0.0</td>\n",
       "      <td>1.0</td>\n",
       "      <td>0</td>\n",
       "      <td>@VirginAmerica  I flew from NYC to SFO last we...</td>\n",
       "    </tr>\n",
       "  </tbody>\n",
       "</table>\n",
       "</div>"
      ],
      "text/plain": [
       "    negativereason  negativereason_confidence  American  Delta  Southwest  \\\n",
       "3              1.0                     0.7033       0.0    0.0        0.0   \n",
       "4              2.0                     1.0000       0.0    0.0        0.0   \n",
       "5              2.0                     0.6842       0.0    0.0        0.0   \n",
       "15             3.0                     0.3684       0.0    0.0        0.0   \n",
       "17             1.0                     1.0000       0.0    0.0        0.0   \n",
       "\n",
       "    US Airways  United  Virgin America  retweet_count  \\\n",
       "3          0.0     0.0             1.0              0   \n",
       "4          0.0     0.0             1.0              0   \n",
       "5          0.0     0.0             1.0              0   \n",
       "15         0.0     0.0             1.0              0   \n",
       "17         0.0     0.0             1.0              0   \n",
       "\n",
       "                                                 text  \n",
       "3   @VirginAmerica it's really aggressive to blast...  \n",
       "4   @VirginAmerica and it's a really big bad thing...  \n",
       "5   @VirginAmerica seriously would pay $30 a fligh...  \n",
       "15      @VirginAmerica SFO-PDX schedule is still MIA.  \n",
       "17  @VirginAmerica  I flew from NYC to SFO last we...  "
      ]
     },
     "execution_count": 17,
     "metadata": {},
     "output_type": "execute_result"
    }
   ],
   "source": [
    "df.head()"
   ]
  },
  {
   "cell_type": "markdown",
   "metadata": {},
   "source": [
    "# Feature Engineering"
   ]
  },
  {
   "cell_type": "markdown",
   "metadata": {},
   "source": [
    "Feature Engineering - Dictionary Words"
   ]
  },
  {
   "cell_type": "code",
   "execution_count": 18,
   "metadata": {
    "collapsed": false
   },
   "outputs": [],
   "source": [
    "# Load dictionaries for positive and negative words (for sentiments)\n",
    "pos=pd.read_csv(\"Positive_Dictionary_Combined.txt\",header=None,names=['Positive_Word'],squeeze=False)\n",
    "neg=pd.read_csv(\"Negative_Dictionary_Combined.txt\",header=None,names=['Negative_Word'],squeeze=False)\n",
    "\n",
    "# Convert all words in dictionary to lower case\n",
    "pos[\"Positive_Word\"] = pos[\"Positive_Word\"].apply(lambda x: x.lower())\n",
    "neg[\"Negative_Word\"] = neg[\"Negative_Word\"].apply(lambda x: x.lower())\n",
    "\n",
    "# Retain only unique words in dictionaries\n",
    "pos.drop_duplicates(inplace=True)\n",
    "neg.drop_duplicates(inplace=True)"
   ]
  },
  {
   "cell_type": "code",
   "execution_count": 19,
   "metadata": {
    "collapsed": true
   },
   "outputs": [],
   "source": [
    "# Create features to capture positive and negative word count (based on dictionaries)\n",
    "df[\"Positive_Word_Flag\"]=df[\"text\"].apply(lambda x: len([i for i in x.split(' ') if i.lower() in list(pos[\"Positive_Word\"])]))\n",
    "df[\"Negative_Word_Flag\"]=df[\"text\"].apply(lambda x: len([i for i in x.split(' ') if i.lower() in list(neg[\"Negative_Word\"])]))"
   ]
  },
  {
   "cell_type": "markdown",
   "metadata": {},
   "source": [
    "Feature Engineering - Sarcasm (Mix of common positive words with any negative words)"
   ]
  },
  {
   "cell_type": "code",
   "execution_count": 20,
   "metadata": {
    "collapsed": false
   },
   "outputs": [],
   "source": [
    "sarcasm=['great','congrats','thanks','thank']\n",
    "df[\"Sarcasm_Dummy\"]=df[\"text\"].apply(lambda x: len([i for i in x.split(' ') if i.lower() in sarcasm]))\n",
    "df[\"Sarcasm_Flag\"]=np.where(((df[\"Sarcasm_Dummy\"]>0) & (df[\"Negative_Word_Flag\"]>0)),1,0)"
   ]
  },
  {
   "cell_type": "markdown",
   "metadata": {},
   "source": [
    "Feature Engineering - Word Sentiment (VaderSentiment Library)"
   ]
  },
  {
   "cell_type": "code",
   "execution_count": 21,
   "metadata": {
    "collapsed": false
   },
   "outputs": [],
   "source": [
    "df[\"Sentiment\"] = df[\"text\"].apply(lambda line: vaderSentiment(line))\n",
    "df[[\"Vader_compound\",\"Vader_neg\",\"Vader_neu\",\"Vader_pos\"]] = df[\"Sentiment\"].apply(pd.Series)\n",
    "df[\"Vader_compound\"] = df[\"Vader_compound\"].apply(lambda x: abs(x))\n",
    "df = df.drop([\"Sentiment\",\"Sarcasm_Dummy\"],1)"
   ]
  },
  {
   "cell_type": "markdown",
   "metadata": {},
   "source": [
    "Feature Engineering - Uppercase (Assumed proxy for extreme tone in text. Example: shouting.)"
   ]
  },
  {
   "cell_type": "code",
   "execution_count": 22,
   "metadata": {
    "collapsed": false
   },
   "outputs": [],
   "source": [
    "df[\"Uppercase\"] = np.nan\n",
    "df[\"Uppercase\"] = df[\"text\"].apply(lambda line: [np.sum([1 if re.search('[A-Z]{2,}',word) is not None else 0]) for word in line.split(' ')])\n",
    "df[\"Uppercase\"] = df[\"Uppercase\"].apply(lambda x: np.sum(x))"
   ]
  },
  {
   "cell_type": "markdown",
   "metadata": {
    "collapsed": false
   },
   "source": [
    "Feature Engineering - Special Characters in continuation (Assumed proxy for negativity. Example: !!, ???)"
   ]
  },
  {
   "cell_type": "code",
   "execution_count": 23,
   "metadata": {
    "collapsed": false
   },
   "outputs": [],
   "source": [
    "df[\"Special_Characters\"] = np.nan\n",
    "df[\"Special_Characters\"] = df[\"text\"].apply(lambda line: [np.sum([1 if re.search('[\\!\\?\\.]{2,}',word.replace(\"https://\",\"\").replace(\"http://\",\"\")) is not None else 0]) for word in line.split(' ')])\n",
    "df[\"Special_Characters\"] = df[\"Special_Characters\"].apply(lambda x: np.sum(x))"
   ]
  },
  {
   "cell_type": "markdown",
   "metadata": {},
   "source": [
    "Feature Engineering - Emojis"
   ]
  },
  {
   "cell_type": "code",
   "execution_count": null,
   "metadata": {
    "collapsed": true
   },
   "outputs": [],
   "source": [
    "emojis=\"😀_❤️_😁_😂_😃_😄_😅_😆_😇_😈_😉_😊_😋_😌_😍_😎_😏_😐_😑_😒_😓_😔_😕_😖_😗_😘_😙_😚_😛_😜_😝_😞_😟_😠_😡_😢_😣_😤_😥_😦_😧_😨_😩_😪_😫_😬_😭_😮_😯_😰_😱_😲_😳_😴_😵_😶_😷_😸_😹_😺_😻_😼_😽_😾_😿_🙀_🙁_🙂_🙃_🙄_🙅_🙆_🙇_🙈_🙉_🙊_🙋_🙌_🙍_🙎_🙏_🚀_🚁_🚂_🚃_🚄_🚅_🚆_🚇_🚈_🚉_🚊_🚋_🚌_🚍_🚎_🚏_🚐_🚑_🚒_🚓_🚔_🚕_🚖_🚗_🚘_🚙_🚚_🚛_🚜_🚝_🚞_🚟_🚠_🚡_🚢_🚣_🚤_🚥_🚦_🚧_🚨_🚩_🚪_🚫_🚬_🚭_🚮_🚯_🚰_🚱_🚲_🚳_🚴_🚵_🚶_🚷_🚸_🚹_🚺_🚻_🚼_🚽_🚾_🚿_🛀_🛁_🛂_🛃_🛄_🛅_🛋_🛌_🛍_🛎_🛏_🛐_🛠_🛡_🛢_🛣_🛤_🛥_🛩_🛫_🛬_🛰_🛳_🤐_🤑_🤒_🤓_🤔_🤕_🤖_🤗_🤘_🦀_🦁_🦂_🦃_🦄_🧀\"\n",
    "\n",
    "emojis_list=emojis.split(\"_\")\n",
    "\n",
    "for i in emojis_list:\n",
    "    df[i]=0\n",
    "    \n",
    "def emoji_f():\n",
    "    for i in emojis_list:\n",
    "        #print i\n",
    "        for j in range(len(df)):\n",
    "            text=df.ix[j,'text']\n",
    "            df.ix[j,i]=str(text).count(str(i))\n",
    "\n",
    "# code to call emojis\n",
    "%time emoji_f()"
   ]
  },
  {
   "cell_type": "markdown",
   "metadata": {},
   "source": [
    "# Train and Test set "
   ]
  },
  {
   "cell_type": "code",
   "execution_count": 24,
   "metadata": {
    "collapsed": false
   },
   "outputs": [],
   "source": [
    "X=df.ix[:,1:]\n",
    "y=df.ix[:,[0]]"
   ]
  },
  {
   "cell_type": "code",
   "execution_count": 25,
   "metadata": {
    "collapsed": true
   },
   "outputs": [],
   "source": [
    "X_train, X_test, y_train, y_test = train_test_split(X,y,test_size=0.20, random_state=42)"
   ]
  },
  {
   "cell_type": "markdown",
   "metadata": {},
   "source": [
    "# Text Preprocessing\n",
    "    Includes - \n",
    "    -- tokenization\n",
    "    -- stop words removal\n",
    "    -- punctuation removal\n",
    "    -- lower case conversion\n",
    "    -- removing most frequent and less frequent words\n",
    "    -- removal of alphanumeric and numeric words\n",
    "    -- keeping words of length > 1\n",
    "    -- removal of alphanumeric and numeric strings\n",
    "    -- n-gram (bigram) generation"
   ]
  },
  {
   "cell_type": "code",
   "execution_count": 26,
   "metadata": {
    "collapsed": false
   },
   "outputs": [],
   "source": [
    "stemmer = EnglishStemmer()\n",
    "analyzer = CountVectorizer().build_analyzer()\n",
    "\n",
    "def lemmatized_words(doc):\n",
    "#   Lemmatization\n",
    "   return (wordnet_lemmatizer.lemmatize(w) for w in analyzer(doc) \n",
    "           if ((len(re.findall(pattern=r'[0-9]',string=w))==0) and (len(w)>1)))\n",
    "\n",
    "# N-grams features\n",
    "v1=CountVectorizer(stop_words ='english',max_df=.5,min_df=2,encoding =\"utf-8\",lowercase=True, ngram_range=(2,2))\n",
    "\n",
    "# Lemmatization features\n",
    "v2=CountVectorizer(stop_words ='english',max_df=.5,min_df=2,encoding =\"utf-8\",lowercase =True,analyzer=lemmatized_words,token_pattern =r'[a-zA-Z]{3,}')"
   ]
  },
  {
   "cell_type": "markdown",
   "metadata": {},
   "source": [
    "# Fit the model"
   ]
  },
  {
   "cell_type": "code",
   "execution_count": 27,
   "metadata": {
    "collapsed": false
   },
   "outputs": [
    {
     "data": {
      "text/plain": [
       "CountVectorizer(analyzer=<function lemmatized_words at 0x00000000118DF828>,\n",
       "        binary=False, decode_error=u'strict', dtype=<type 'numpy.int64'>,\n",
       "        encoding='utf-8', input=u'content', lowercase=True, max_df=0.5,\n",
       "        max_features=None, min_df=2, ngram_range=(1, 1), preprocessor=None,\n",
       "        stop_words='english', strip_accents=None,\n",
       "        token_pattern='[a-zA-Z]{3,}', tokenizer=None, vocabulary=None)"
      ]
     },
     "execution_count": 27,
     "metadata": {},
     "output_type": "execute_result"
    }
   ],
   "source": [
    "v1.fit(X_train.text)\n",
    "v2.fit(X_train.text)"
   ]
  },
  {
   "cell_type": "code",
   "execution_count": 28,
   "metadata": {
    "collapsed": false
   },
   "outputs": [],
   "source": [
    "X_train_text_TF1=v1.transform(X_train.text)\n",
    "X_train_text_TF2=v2.transform(X_train.text)\n",
    "\n",
    "X_test_text_TF1=v1.transform(X_test.text)\n",
    "X_test_text_TF2=v2.transform(X_test.text)"
   ]
  },
  {
   "cell_type": "code",
   "execution_count": 29,
   "metadata": {
    "collapsed": false
   },
   "outputs": [],
   "source": [
    "df_train_newX1=pd.DataFrame(X_train_text_TF1.toarray(), columns=v1.get_feature_names(),index=X_train.index)\n",
    "df_train_newX2=pd.DataFrame(X_train_text_TF2.toarray(), columns=v2.get_feature_names(),index=X_train.index)\n",
    "\n",
    "df_train_newX=df_train_newX1\n",
    "df_train_newX = pd.concat([df_train_newX1, df_train_newX2], axis=1, join='inner')\n",
    "df_train_newX = df_train_newX1.merge(df_train_newX2, left_index=True,right_index=True)\n",
    "\n",
    "df_test_newX1=pd.DataFrame(X_test_text_TF1.toarray(), columns=v1.get_feature_names(),index=X_test.index)\n",
    "df_test_newX2=pd.DataFrame(X_test_text_TF2.toarray(), columns=v2.get_feature_names(),index=X_test.index)\n",
    "\n",
    "df_test_newX=df_test_newX1\n",
    "df_test_newX = pd.concat([df_test_newX1, df_test_newX2], axis=1, join='inner')\n",
    "df_test_newX = df_test_newX1.merge(df_test_newX2, left_index=True,right_index=True)"
   ]
  },
  {
   "cell_type": "markdown",
   "metadata": {},
   "source": [
    "# Merge Text Features (Word Count, N-Grams) with original dataset"
   ]
  },
  {
   "cell_type": "code",
   "execution_count": 30,
   "metadata": {
    "collapsed": false
   },
   "outputs": [],
   "source": [
    "X_train_new = pd.concat([X_train, df_train_newX], axis=1, join='inner')\n",
    "X_test_new = pd.concat([X_test, df_test_newX], axis=1, join='inner')\n",
    "\n",
    "# Drop the \"text\" (tweets) feature\n",
    "X_train_new=X_train_new.drop(\"text\",axis=1)\n",
    "X_test_new=X_test_new.drop(\"text\",axis=1)"
   ]
  },
  {
   "cell_type": "markdown",
   "metadata": {},
   "source": [
    "# Train the model and predict"
   ]
  },
  {
   "cell_type": "markdown",
   "metadata": {},
   "source": [
    "# Algorithm comparision by cross validation "
   ]
  },
  {
   "cell_type": "code",
   "execution_count": 39,
   "metadata": {
    "collapsed": true
   },
   "outputs": [],
   "source": [
    "from sklearn.cross_validation import cross_val_score\n",
    "from sklearn.ensemble import ExtraTreesClassifier\n",
    "from sklearn.linear_model import SGDClassifier \n",
    "from sklearn.ensemble import BaggingClassifier\n",
    "from sklearn.ensemble import GradientBoostingClassifier\n",
    "from sklearn.ensemble import AdaBoostClassifier\n",
    "\n",
    "nb = MultinomialNB()\n",
    "lr = linear_model.LogisticRegression()\n",
    "etc = ExtraTreesClassifier()\n",
    "sgd = SGDClassifier()\n",
    "dt = tree.DecisionTreeClassifier()\n",
    "bc = BaggingClassifier()\n",
    "abc = AdaBoostClassifier()\n",
    "\n",
    "X_cross=X_train_new.append(X_test_new)\n",
    "y_cross=y_train.append( y_test)\n",
    "labels= np.asarray(y_cross)\n",
    "c, r = labels.shape\n",
    "labels = labels.reshape(c,)\n",
    "clf_l=[nb,lr,etc,sgd,dt,bc,abc]"
   ]
  },
  {
   "cell_type": "code",
   "execution_count": 40,
   "metadata": {
    "collapsed": true
   },
   "outputs": [],
   "source": [
    "X_cross.shape\n",
    "labels.shape\n",
    "len(y_cross)\n",
    "def my_scorer_function(y_test, y_pred_class):\n",
    "    return metrics.accuracy_score(y_test, y_pred_class)\n",
    "def two_scorer():\n",
    "    return make_scorer(my_scorer_function, greater_is_better=True)"
   ]
  },
  {
   "cell_type": "code",
   "execution_count": 41,
   "metadata": {
    "collapsed": false
   },
   "outputs": [
    {
     "name": "stdout",
     "output_type": "stream",
     "text": [
      "MultinomialNB(alpha=1.0, class_prior=None, fit_prior=True)\n",
      "LogisticRegression(C=1.0, class_weight=None, dual=False, fit_intercept=True,\n",
      "          intercept_scaling=1, max_iter=100, multi_class='ovr', n_jobs=1,\n",
      "          penalty='l2', random_state=None, solver='liblinear', tol=0.0001,\n",
      "          verbose=0, warm_start=False)\n",
      "ExtraTreesClassifier(bootstrap=False, class_weight=None, criterion='gini',\n",
      "           max_depth=None, max_features='auto', max_leaf_nodes=None,\n",
      "           min_impurity_split=1e-07, min_samples_leaf=1,\n",
      "           min_samples_split=2, min_weight_fraction_leaf=0.0,\n",
      "           n_estimators=10, n_jobs=1, oob_score=False, random_state=None,\n",
      "           verbose=0, warm_start=False)\n",
      "SGDClassifier(alpha=0.0001, average=False, class_weight=None, epsilon=0.1,\n",
      "       eta0=0.0, fit_intercept=True, l1_ratio=0.15,\n",
      "       learning_rate='optimal', loss='hinge', n_iter=5, n_jobs=1,\n",
      "       penalty='l2', power_t=0.5, random_state=None, shuffle=True,\n",
      "       verbose=0, warm_start=False)\n",
      "DecisionTreeClassifier(class_weight=None, criterion='gini', max_depth=None,\n",
      "            max_features=None, max_leaf_nodes=None,\n",
      "            min_impurity_split=1e-07, min_samples_leaf=1,\n",
      "            min_samples_split=2, min_weight_fraction_leaf=0.0,\n",
      "            presort=False, random_state=None, splitter='best')\n",
      "BaggingClassifier(base_estimator=None, bootstrap=True,\n",
      "         bootstrap_features=False, max_features=1.0, max_samples=1.0,\n",
      "         n_estimators=10, n_jobs=1, oob_score=False, random_state=None,\n",
      "         verbose=0, warm_start=False)\n",
      "AdaBoostClassifier(algorithm='SAMME.R', base_estimator=None,\n",
      "          learning_rate=1.0, n_estimators=50, random_state=None)\n"
     ]
    }
   ],
   "source": [
    "p=[]\n",
    "for i in clf_l:\n",
    "    print i\n",
    "    clf = cross_val_score(estimator=i,cv=10,n_jobs=1,X=np.array(X_cross),y=labels,scoring=two_scorer())\n",
    "    clf\n",
    "    clf.mean()\n",
    "    p.append(clf.mean())"
   ]
  },
  {
   "cell_type": "code",
   "execution_count": 46,
   "metadata": {
    "collapsed": false
   },
   "outputs": [
    {
     "data": {
      "text/plain": [
       "<matplotlib.text.Text at 0x4d5baf60>"
      ]
     },
     "execution_count": 46,
     "metadata": {},
     "output_type": "execute_result"
    },
    {
     "data": {
      "image/png": "[encoded data removed]",
      "text/plain": [
       "<matplotlib.figure.Figure at 0x4d289710>"
      ]
     },
     "metadata": {},
     "output_type": "display_data"
    }
   ],
   "source": [
    "Index = [1,2,3,4,5,6,7]\n",
    "plt.bar(Index,p)\n",
    "plt.xticks(Index, ['Naive Bayes','Logistic Regression','Extra Trees Classifier','SGD Classifier','Decision Tree Classifier',\n",
    "                   'Bagging Classifer','Ada Boost Classifier'],rotation=45)\n",
    "plt.ylabel('Model accuracy')\n",
    "plt.xlabel('Model')\n",
    "#plt.ylim(0,0.9)\n",
    "plt.title('Model Accuracies')"
   ]
  },
  {
   "cell_type": "markdown",
   "metadata": {},
   "source": [
    "# Model Evaluation "
   ]
  },
  {
   "cell_type": "code",
   "execution_count": 32,
   "metadata": {
    "collapsed": false
   },
   "outputs": [
    {
     "name": "stdout",
     "output_type": "stream",
     "text": [
      "The model accuracy is: 0.583877995643\n"
     ]
    }
   ],
   "source": [
    "# calculate accuracy of class predictions\n",
    "print(\"The model accuracy is: {}\".format(metrics.accuracy_score(y_test, y_pred_class)))"
   ]
  },
  {
   "cell_type": "code",
   "execution_count": 35,
   "metadata": {
    "collapsed": false
   },
   "outputs": [
    {
     "name": "stdout",
     "output_type": "stream",
     "text": [
      "Confusion Matrix:\n"
     ]
    },
    {
     "data": {
      "text/html": [
       "<div>\n",
       "<table border=\"1\" class=\"dataframe\">\n",
       "  <thead>\n",
       "    <tr style=\"text-align: right;\">\n",
       "      <th>PREDICTED</th>\n",
       "      <th>0</th>\n",
       "      <th>1</th>\n",
       "      <th>2</th>\n",
       "      <th>3</th>\n",
       "      <th>4</th>\n",
       "      <th>5</th>\n",
       "      <th>6</th>\n",
       "      <th>7</th>\n",
       "      <th>8</th>\n",
       "      <th>9</th>\n",
       "    </tr>\n",
       "    <tr>\n",
       "      <th>ACTUAL</th>\n",
       "      <th></th>\n",
       "      <th></th>\n",
       "      <th></th>\n",
       "      <th></th>\n",
       "      <th></th>\n",
       "      <th></th>\n",
       "      <th></th>\n",
       "      <th></th>\n",
       "      <th></th>\n",
       "      <th></th>\n",
       "    </tr>\n",
       "  </thead>\n",
       "  <tbody>\n",
       "    <tr>\n",
       "      <th>0</th>\n",
       "      <td>11</td>\n",
       "      <td>11</td>\n",
       "      <td>39</td>\n",
       "      <td>37</td>\n",
       "      <td>1</td>\n",
       "      <td>1</td>\n",
       "      <td>3</td>\n",
       "      <td>0</td>\n",
       "      <td>0</td>\n",
       "      <td>0</td>\n",
       "    </tr>\n",
       "    <tr>\n",
       "      <th>1</th>\n",
       "      <td>4</td>\n",
       "      <td>81</td>\n",
       "      <td>44</td>\n",
       "      <td>108</td>\n",
       "      <td>0</td>\n",
       "      <td>2</td>\n",
       "      <td>2</td>\n",
       "      <td>3</td>\n",
       "      <td>0</td>\n",
       "      <td>0</td>\n",
       "    </tr>\n",
       "    <tr>\n",
       "      <th>2</th>\n",
       "      <td>1</td>\n",
       "      <td>6</td>\n",
       "      <td>265</td>\n",
       "      <td>44</td>\n",
       "      <td>1</td>\n",
       "      <td>2</td>\n",
       "      <td>0</td>\n",
       "      <td>6</td>\n",
       "      <td>0</td>\n",
       "      <td>0</td>\n",
       "    </tr>\n",
       "    <tr>\n",
       "      <th>3</th>\n",
       "      <td>0</td>\n",
       "      <td>28</td>\n",
       "      <td>34</td>\n",
       "      <td>524</td>\n",
       "      <td>3</td>\n",
       "      <td>3</td>\n",
       "      <td>2</td>\n",
       "      <td>13</td>\n",
       "      <td>0</td>\n",
       "      <td>0</td>\n",
       "    </tr>\n",
       "    <tr>\n",
       "      <th>4</th>\n",
       "      <td>1</td>\n",
       "      <td>5</td>\n",
       "      <td>8</td>\n",
       "      <td>71</td>\n",
       "      <td>11</td>\n",
       "      <td>0</td>\n",
       "      <td>0</td>\n",
       "      <td>5</td>\n",
       "      <td>0</td>\n",
       "      <td>0</td>\n",
       "    </tr>\n",
       "    <tr>\n",
       "      <th>5</th>\n",
       "      <td>0</td>\n",
       "      <td>10</td>\n",
       "      <td>27</td>\n",
       "      <td>52</td>\n",
       "      <td>0</td>\n",
       "      <td>54</td>\n",
       "      <td>1</td>\n",
       "      <td>0</td>\n",
       "      <td>0</td>\n",
       "      <td>0</td>\n",
       "    </tr>\n",
       "    <tr>\n",
       "      <th>6</th>\n",
       "      <td>1</td>\n",
       "      <td>8</td>\n",
       "      <td>20</td>\n",
       "      <td>50</td>\n",
       "      <td>0</td>\n",
       "      <td>2</td>\n",
       "      <td>5</td>\n",
       "      <td>1</td>\n",
       "      <td>0</td>\n",
       "      <td>0</td>\n",
       "    </tr>\n",
       "    <tr>\n",
       "      <th>7</th>\n",
       "      <td>1</td>\n",
       "      <td>8</td>\n",
       "      <td>18</td>\n",
       "      <td>27</td>\n",
       "      <td>0</td>\n",
       "      <td>2</td>\n",
       "      <td>0</td>\n",
       "      <td>121</td>\n",
       "      <td>0</td>\n",
       "      <td>0</td>\n",
       "    </tr>\n",
       "    <tr>\n",
       "      <th>8</th>\n",
       "      <td>0</td>\n",
       "      <td>3</td>\n",
       "      <td>1</td>\n",
       "      <td>4</td>\n",
       "      <td>0</td>\n",
       "      <td>3</td>\n",
       "      <td>0</td>\n",
       "      <td>0</td>\n",
       "      <td>0</td>\n",
       "      <td>0</td>\n",
       "    </tr>\n",
       "    <tr>\n",
       "      <th>9</th>\n",
       "      <td>1</td>\n",
       "      <td>1</td>\n",
       "      <td>17</td>\n",
       "      <td>16</td>\n",
       "      <td>0</td>\n",
       "      <td>1</td>\n",
       "      <td>0</td>\n",
       "      <td>1</td>\n",
       "      <td>0</td>\n",
       "      <td>0</td>\n",
       "    </tr>\n",
       "  </tbody>\n",
       "</table>\n",
       "</div>"
      ],
      "text/plain": [
       "PREDICTED   0   1    2    3   4   5  6    7  8  9\n",
       "ACTUAL                                           \n",
       "0          11  11   39   37   1   1  3    0  0  0\n",
       "1           4  81   44  108   0   2  2    3  0  0\n",
       "2           1   6  265   44   1   2  0    6  0  0\n",
       "3           0  28   34  524   3   3  2   13  0  0\n",
       "4           1   5    8   71  11   0  0    5  0  0\n",
       "5           0  10   27   52   0  54  1    0  0  0\n",
       "6           1   8   20   50   0   2  5    1  0  0\n",
       "7           1   8   18   27   0   2  0  121  0  0\n",
       "8           0   3    1    4   0   3  0    0  0  0\n",
       "9           1   1   17   16   0   1  0    1  0  0"
      ]
     },
     "metadata": {},
     "output_type": "display_data"
    },
    {
     "name": "stdout",
     "output_type": "stream",
     "text": [
      "None\n",
      "Accuracy of model is 0.5838779956\n"
     ]
    },
    {
     "data": {
      "text/plain": [
       "4.0    933\n",
       "3.0    473\n",
       "2.0    161\n",
       "8.0    150\n",
       "6.0     70\n",
       "1.0     20\n",
       "5.0     16\n",
       "7.0     13\n",
       "Name: predicted_sentiment, dtype: int64"
      ]
     },
     "execution_count": 35,
     "metadata": {},
     "output_type": "execute_result"
    }
   ],
   "source": [
    "# Function for confusion matrix\n",
    "def confusion_matrix_func(y_test,y_predicted):\n",
    "    \n",
    "    confusionMatrix=confusion_matrix(y_test,y_predicted)\n",
    "    Confu_matrix_df=pd.DataFrame(confusionMatrix)\n",
    "    Confu_matrix_df.columns.name='PREDICTED'\n",
    "    Confu_matrix_df.index.name='ACTUAL'\n",
    "    Confu_matrix_df.name='CONFUSION MATRIX'\n",
    "    \n",
    "    print \"Confusion Matrix:\"\n",
    "    print display(Confu_matrix_df)\n",
    "    \n",
    "    confusionmatrix=Confu_matrix_df\n",
    "    print \"Accuracy of model is {:.10f}\".format(metrics.accuracy_score(y_test,y_predicted))\n",
    "    \n",
    "    return Confu_matrix_df\n",
    "\n",
    "# Calculate evaluation metrics with confusion matrix function\n",
    "df_confusion=confusion_matrix_func(y_test,y_pred_class)\n",
    "precision_recall_fscore_support(y_test,y_pred_class,pos_label=2)[2]\n",
    "\n",
    "# Concat predicted and actual sentiment classes for comparison\n",
    "df_analyze_prediction=pd.concat([X_test.text, y_test,pd.DataFrame(y_pred_class,index=X_test.index)], axis=1, join='inner')\n",
    "df_analyze_prediction.columns=[\"text\",\"actual_sentiment\",\"predicted_sentiment\"]\n",
    "\n",
    "df_analyze_prediction.predicted_sentiment.value_counts()"
   ]
  },
  {
   "cell_type": "code",
   "execution_count": 43,
   "metadata": {
    "collapsed": false
   },
   "outputs": [
    {
     "name": "stdout",
     "output_type": "stream",
     "text": [
      "(0.56825264434826428, 0.54629629629629628, 0.54554009486799426, None)\n"
     ]
    }
   ],
   "source": [
    "from sklearn.metrics import precision_recall_fscore_support\n",
    "#print(precision_recall_fscore_support(y_test,y_pred_class, average='macro'))\n",
    "#print(precision_recall_fscore_support(y_test,y_pred_class, average='micro'))\n",
    "print(precision_recall_fscore_support(y_test,y_pred_class, average='weighted'))"
   ]
  },
  {
   "cell_type": "markdown",
   "metadata": {},
   "source": [
    "# WordCloud"
   ]
  },
  {
   "cell_type": "code",
   "execution_count": 6,
   "metadata": {
    "collapsed": false
   },
   "outputs": [],
   "source": [
    "from wordcloud import WordCloud,STOPWORDS\n",
    "x=pd.read_csv(\"Tweets.csv\")\n",
    "x=x.dropna(subset=[\"negativereason\"])\n",
    "words=(' '.join(list(x['negativereason'].values)))"
   ]
  },
  {
   "cell_type": "code",
   "execution_count": 7,
   "metadata": {
    "collapsed": false
   },
   "outputs": [
    {
     "data": {
      "image/png": "[encoded data removed]",
      "text/plain": [
       "<matplotlib.figure.Figure at 0xd8da2e8>"
      ]
     },
     "metadata": {},
     "output_type": "display_data"
    }
   ],
   "source": [
    "cleaned_word = \" \".join([word for word in words.split()\n",
    "                            if 'http' not in word\n",
    "                                and not word.startswith('@')\n",
    "                                and word != 'RT'\n",
    "                            ])\n",
    "wordcloud = WordCloud(stopwords=STOPWORDS,\n",
    "                      background_color='black',\n",
    "                      width=3000,\n",
    "                      height=2500\n",
    "                     ).generate(cleaned_word)\n",
    "\n",
    "plt.figure(1,figsize=(12, 12))\n",
    "plt.imshow(wordcloud)\n",
    "plt.axis('off')\n",
    "plt.show()"
   ]
  }
 ],
 "metadata": {
  "anaconda-cloud": {},
  "kernelspec": {
   "display_name": "Python [Root]",
   "language": "python",
   "name": "Python [Root]"
  },
  "language_info": {
   "codemirror_mode": {
    "name": "ipython",
    "version": 2
   },
   "file_extension": ".py",
   "mimetype": "text/x-python",
   "name": "python",
   "nbconvert_exporter": "python",
   "pygments_lexer": "ipython2",
   "version": "2.7.12"
  }
 },
 "nbformat": 4,
 "nbformat_minor": 1
}
